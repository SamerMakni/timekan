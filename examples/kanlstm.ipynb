{
 "cells": [
  {
   "cell_type": "code",
   "execution_count": null,
   "metadata": {
    "vscode": {
     "languageId": "plaintext"
    }
   },
   "outputs": [],
   "source": [
    "import torch\n",
    "import torch.nn as nn\n",
    "from timekan.models.tkan_lstm import tKANLSTM\n",
    "from timekan.utils.datasets import mackey_glass\n",
    "\n",
    "from cuda_selector import auto_cuda\n",
    "\n",
    "\n",
    "device = auto_cuda()\n",
    "\n",
    "class TKANLSTMRegressor(nn.Module):\n",
    "    \"\"\"A regressor using tKANLSTM for time series prediction.\n",
    "\n",
    "    Args:\n",
    "        input_dim (int): Size of the input dimension.\n",
    "        hidden_dim (int): Size of the hidden state dimension.\n",
    "    \"\"\"\n",
    "    def __init__(self, input_dim, hidden_dim):\n",
    "        super().__init__()\n",
    "        self.tkan = tKANLSTM(\n",
    "            input_dim=input_dim,\n",
    "            hidden_dim=hidden_dim,\n",
    "            return_sequences=False,\n",
    "            bidirectional=True,\n",
    "            kan_type='fourier',\n",
    "            sub_kan_configs={'gridsize': 50, 'addbias': True}\n",
    "        )\n",
    "        self.regressor = nn.Linear(hidden_dim * 2, 1)\n",
    "\n",
    "    def forward(self, x):\n",
    "        features = self.tkan(x)\n",
    "        return self.regressor(features).squeeze(-1)\n",
    "\n",
    "x_train, y_train, x_test, y_test = mackey_glass()\n",
    "\n",
    "model = TKANLSTMRegressor(input_dim=1, hidden_dim=16).to(device)\n",
    "criterion = nn.MSELoss()\n",
    "optimizer = torch.optim.Adam(model.parameters(), lr=0.001)\n",
    "\n",
    "for epoch in range(10):\n",
    "    model.train()\n",
    "    optimizer.zero_grad()\n",
    "    x_train, y_train = x_train.to(device), y_train.to(device)\n",
    "    outputs = model(x_train)\n",
    "    loss = criterion(outputs, y_train)\n",
    "    loss.backward()\n",
    "    optimizer.step()\n",
    "    print(f\"Epoch {epoch + 1}/10, Training MSE: {loss.item():.4f}\")\n",
    "\n",
    "model.eval()\n",
    "with torch.no_grad():\n",
    "    x_test, y_test = x_test.to(device), y_test.to(device)\n",
    "    test_outputs = model(x_test)\n",
    "    test_mse = criterion(test_outputs, y_test).item()\n",
    "    print(f\"Test MSE: {test_mse:.4f}\")"
   ]
  }
 ],
 "metadata": {
  "language_info": {
   "name": "python"
  }
 },
 "nbformat": 4,
 "nbformat_minor": 2
}
